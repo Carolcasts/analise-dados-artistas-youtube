{
 "cells": [
  {
   "cell_type": "code",
   "execution_count": 3,
   "id": "95c627e1-fb1d-4a26-a8d2-bb844e0ffd35",
   "metadata": {},
   "outputs": [
    {
     "name": "stdout",
     "output_type": "stream",
     "text": [
      "              Artist Total Views          100M    Avg\n",
      "1          Bad Bunny    27,573.4  6.600000e+09  14.56\n",
      "0                BTS    27,947.9  6.300000e+09   7.37\n",
      "18  Marília Mendonça    16,515.8  5.300000e+09   6.40\n",
      "7              Ozuna    22,524.8  4.900000e+09   4.93\n",
      "5            Shakira    23,961.8  4.300000e+09   7.84\n",
      "10      Daddy Yankee    20,485.2  4.100000e+09   4.54\n",
      "3         Ed Sheeran    26,894.0  3.900000e+09   4.61\n",
      "8             Eminem    20,937.7  3.800000e+09   5.84\n",
      "4       Taylor Swift    24,350.0  3.800000e+09   5.72\n",
      "31       Chris Brown    13,165.0  3.700000e+09   3.84\n",
      "             Artist Total Views         100M   Avg\n",
      "1374         Łobuzy       396.5  200000000.0  0.11\n",
      "537     İrem Derici     1,717.3  300000000.0  0.32\n",
      "634      Ñengo Flow     1,388.8  400000000.0  0.82\n",
      "1032  Çağatay Akman       742.7  200000000.0  0.05\n",
      "350       will.i.am     2,582.0  600000000.0  0.30\n",
      "...             ...         ...          ...   ...\n",
      "516      Via Vallen     1,787.5  300000000.0  0.08\n",
      "1507   Veysel Mutlu       277.4  100000000.0  0.03\n",
      "1358         Veysel       412.2          NaN  0.06\n",
      "891       Vengaboys       934.8  300000000.0  0.34\n",
      "864       Vegedream       991.3  100000000.0  0.51\n",
      "\n",
      "[100 rows x 4 columns]\n"
     ]
    }
   ],
   "source": [
    "import pandas as pd\n",
    "\n",
    "# Carregamento do dataset\n",
    "df = pd.read_csv(\"topyoutube.csv\")\n",
    "\n",
    "# Tratamento das colunas sem informação\n",
    "for column in df.columns:\n",
    "    if df[column].isnull().all():\n",
    "        df[column] = \"Não informado\"\n",
    "\n",
    "# Formatação da coluna de total de inscritos\n",
    "df[\"100M\"] = df[\"100M\"] * 100_000_000\n",
    "\n",
    "# Formatação da coluna \"AVG\"\n",
    "df[\"Avg\"] = df[\"Avg\"].round(2)\n",
    "\n",
    "# Top 10 usuários\n",
    "top_10 = df.sort_values(\"100M\", ascending=False).head(10)\n",
    "\n",
    "# Primeiros 100 usuários\n",
    "primeiros_100 = df.sort_values(\"Artist\", ascending=False).head(100)\n",
    "\n",
    "# Salvamento do novo CSV\n",
    "df.to_csv(\"top_youtube_artists_tratado.csv\")\n",
    "\n",
    "# Impressão do top 10\n",
    "print(top_10)\n",
    "\n",
    "# Impressão dos primeiros 100 usuários\n",
    "print(primeiros_100)"
   ]
  },
  {
   "cell_type": "code",
   "execution_count": null,
   "id": "05382884-7b7d-44cb-95c8-c0b9f1e39a40",
   "metadata": {},
   "outputs": [],
   "source": []
  },
  {
   "cell_type": "code",
   "execution_count": null,
   "id": "343e33d1-163b-4893-ba69-d1602e0bf8ed",
   "metadata": {},
   "outputs": [],
   "source": []
  }
 ],
 "metadata": {
  "kernelspec": {
   "display_name": "Python 3 (ipykernel)",
   "language": "python",
   "name": "python3"
  },
  "language_info": {
   "codemirror_mode": {
    "name": "ipython",
    "version": 3
   },
   "file_extension": ".py",
   "mimetype": "text/x-python",
   "name": "python",
   "nbconvert_exporter": "python",
   "pygments_lexer": "ipython3",
   "version": "3.11.5"
  }
 },
 "nbformat": 4,
 "nbformat_minor": 5
}
